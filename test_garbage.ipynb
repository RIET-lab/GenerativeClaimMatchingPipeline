{
 "cells": [
  {
   "cell_type": "code",
   "execution_count": 12,
   "id": "66026314-2f65-4c99-a304-f92ee75c6729",
   "metadata": {},
   "outputs": [],
   "source": [
    "import numpy as np"
   ]
  },
  {
   "cell_type": "code",
   "execution_count": 13,
   "id": "7515df94-42da-4fd2-9bf8-ca0f10a3ea9d",
   "metadata": {},
   "outputs": [],
   "source": [
    "t0 = np.load(\"train_negative_ranks.npy\")\n",
    "t1 = np.load(\"./experiments/candidate_selection/shared_resources/train_negative_ranks.npy\")"
   ]
  },
  {
   "cell_type": "code",
   "execution_count": 14,
   "id": "4d9d1298-c571-423b-8300-1e65aa237f63",
   "metadata": {},
   "outputs": [
    {
     "data": {
      "text/plain": [
       "array([ 1448, 13330, 10686, 13142, 10071])"
      ]
     },
     "execution_count": 14,
     "metadata": {},
     "output_type": "execute_result"
    }
   ],
   "source": [
    "t0[:5]"
   ]
  },
  {
   "cell_type": "code",
   "execution_count": 15,
   "id": "ee57670d-0d38-4cf3-80c2-2331f6cada4c",
   "metadata": {},
   "outputs": [
    {
     "data": {
      "text/plain": [
       "array([ 1448, 13330, 10686, 13142, 10071])"
      ]
     },
     "execution_count": 15,
     "metadata": {},
     "output_type": "execute_result"
    }
   ],
   "source": [
    "t1[:5]"
   ]
  },
  {
   "cell_type": "code",
   "execution_count": 16,
   "id": "c8c274b7-7f77-42c5-b8b3-0378195cfe7f",
   "metadata": {},
   "outputs": [
    {
     "data": {
      "text/plain": [
       "((999,), (999,))"
      ]
     },
     "execution_count": 16,
     "metadata": {},
     "output_type": "execute_result"
    }
   ],
   "source": [
    "t0.shape, t1.shape"
   ]
  },
  {
   "cell_type": "code",
   "execution_count": 18,
   "id": "08986118-7a4b-493a-b208-f315038a3d27",
   "metadata": {},
   "outputs": [
    {
     "data": {
      "text/plain": [
       "True"
      ]
     },
     "execution_count": 18,
     "metadata": {},
     "output_type": "execute_result"
    }
   ],
   "source": [
    "(t0 == t1).all()"
   ]
  },
  {
   "cell_type": "code",
   "execution_count": 1,
   "id": "1a2c1be2-42ce-4993-909b-fd808affd510",
   "metadata": {},
   "outputs": [],
   "source": [
    "from dynamicquery import utils\n",
    "\n",
    "tr, dev, te = utils.get_qrels()"
   ]
  },
  {
   "cell_type": "code",
   "execution_count": 2,
   "id": "5e97c645-e53c-4c1c-ae6a-5481b2bcf1fd",
   "metadata": {},
   "outputs": [
    {
     "data": {
      "text/plain": [
       "Index(['tweet_id', 'tweet_num', 'claim_id', 'claim_num', 'negative_claim_idx'], dtype='object')"
      ]
     },
     "execution_count": 2,
     "metadata": {},
     "output_type": "execute_result"
    }
   ],
   "source": [
    "tr.columns"
   ]
  },
  {
   "cell_type": "code",
   "execution_count": 3,
   "id": "7f18b670-0e6c-4d42-9a25-d570f64c8bf9",
   "metadata": {},
   "outputs": [
    {
     "data": {
      "text/plain": [
       "Index(['tweet_id', 'tweet_num', 'claim_id', 'claim_num', 'negative_claim_idx'], dtype='object')"
      ]
     },
     "execution_count": 3,
     "metadata": {},
     "output_type": "execute_result"
    }
   ],
   "source": [
    "dev.columns"
   ]
  },
  {
   "cell_type": "code",
   "execution_count": 23,
   "id": "792845fb-09e9-4222-812c-8bc8a70119d4",
   "metadata": {},
   "outputs": [
    {
     "data": {
      "text/plain": [
       "'/home/mshlis/anaconda3/envs/torch/lib/python3.7/site-packages/dynamicquery/utils.py'"
      ]
     },
     "execution_count": 23,
     "metadata": {},
     "output_type": "execute_result"
    }
   ],
   "source": [
    "utils.__file__"
   ]
  },
  {
   "cell_type": "code",
   "execution_count": null,
   "id": "e7b3d284-c842-42bc-b593-52c5a77e4f8b",
   "metadata": {},
   "outputs": [],
   "source": []
  }
 ],
 "metadata": {
  "kernelspec": {
   "display_name": "torch",
   "language": "python",
   "name": "torch"
  },
  "language_info": {
   "codemirror_mode": {
    "name": "ipython",
    "version": 3
   },
   "file_extension": ".py",
   "mimetype": "text/x-python",
   "name": "python",
   "nbconvert_exporter": "python",
   "pygments_lexer": "ipython3",
   "version": "3.7.11"
  }
 },
 "nbformat": 4,
 "nbformat_minor": 5
}
