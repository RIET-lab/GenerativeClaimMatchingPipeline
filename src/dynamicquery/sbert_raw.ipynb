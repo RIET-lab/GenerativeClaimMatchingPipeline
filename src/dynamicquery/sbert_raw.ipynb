{
 "cells": [
  {
   "cell_type": "code",
   "execution_count": 1,
   "id": "76b30f04-91fa-499e-8503-ba9553d866ec",
   "metadata": {},
   "outputs": [],
   "source": [
    "import pandas as pd\n",
    "import json\n",
    "import os\n",
    "import numpy as np\n",
    "import torch\n",
    "from dynamicquery import utils"
   ]
  },
  {
   "cell_type": "code",
   "execution_count": 2,
   "id": "86932024-1891-4352-92f1-29ff8e6abdd6",
   "metadata": {},
   "outputs": [],
   "source": [
    "base_path = \"/home/mshlis/Projects/RIET/DynamicQuery\"\n",
    "os.chdir(base_path)"
   ]
  },
  {
   "cell_type": "code",
   "execution_count": 3,
   "id": "06c97dbf-388e-42a2-b833-e37004889e9c",
   "metadata": {},
   "outputs": [],
   "source": [
    "tweets, test_tweets = utils.get_tweets()\n",
    "test_tweets = test_tweets[1:]\n",
    "train_conns, dev_conns, test_conns = utils.get_qrels()\n",
    "claims = utils.get_claims()"
   ]
  },
  {
   "cell_type": "code",
   "execution_count": 4,
   "id": "04405e79-665b-4e09-8b08-0542ceb0d4ba",
   "metadata": {},
   "outputs": [
    {
     "data": {
      "text/plain": [
       "True"
      ]
     },
     "execution_count": 4,
     "metadata": {},
     "output_type": "execute_result"
    }
   ],
   "source": [
    "torch.cuda.is_available()"
   ]
  },
  {
   "cell_type": "code",
   "execution_count": 6,
   "id": "e8615d95-ff4e-4c21-83ea-e198e4960ad7",
   "metadata": {},
   "outputs": [
    {
     "data": {
      "text/plain": [
       "<All keys matched successfully>"
      ]
     },
     "execution_count": 6,
     "metadata": {},
     "output_type": "execute_result"
    }
   ],
   "source": [
    "from sentence_transformers import SentenceTransformer\n",
    "\n",
    "os.environ[\"CUDA_VISIBLE_DEVICES\"] = \"0\"\n",
    "model_str = \"sentence-transformers/sentence-t5-large\"\n",
    "ft_str = \"./experiments/candidate_selection/finetune_st5_large_claims_negs/model.pt\"\n",
    "model = SentenceTransformer(model_str)\n",
    "model.load_state_dict(torch.load(ft_str))"
   ]
  },
  {
   "cell_type": "code",
   "execution_count": 8,
   "id": "92cf144c-c873-4a8c-8974-d23fd4f19f12",
   "metadata": {},
   "outputs": [],
   "source": [
    "embs = model.encode(claims.vclaim.to_list())\n",
    "save_ranks = False\n",
    "save_tweet_embs = True"
   ]
  },
  {
   "cell_type": "code",
   "execution_count": 9,
   "id": "d793adfd-53ba-4aa7-b31f-101f1821c0aa",
   "metadata": {},
   "outputs": [],
   "source": [
    "def get_idx(connections, claims, tweets):\n",
    "    run_tweets = tweets.join(connections.set_index(\"tweet_id\"), on=\"id\", how=\"inner\")\n",
    "    run_tweets = run_tweets.join(claims.set_index(\"vclaim_id\"), on=\"claim_id\", how=\"inner\")\n",
    "    run_tweets = run_tweets[[\"tweet\", \"vclaim\"]].reset_index()\n",
    "    claim_idx = [claims.vclaim.to_list().index(t_claim) for t_claim in run_tweets.vclaim.to_list()]\n",
    "    return run_tweets, claim_idx\n",
    "\n",
    "def avg_prec(gold, rankings, n):\n",
    "    is_rel = (np.array(rankings)[:n] == gold).astype(float)\n",
    "    return (is_rel/np.arange(1,n+1)).sum()\n",
    "\n",
    "def recall(gold, rankings, n):\n",
    "    is_rel = (np.array(rankings)[:n] == gold).astype(float)\n",
    "    return is_rel.sum()\n",
    "\n",
    "def mean_avg_prec(golds, rankings, n):\n",
    "    avg_precs = [avg_prec(gold, rlist, n) for gold, rlist in zip(golds, rankings)]\n",
    "    return np.array(avg_precs).mean()\n",
    "\n",
    "def mean_recall(golds, rankings, n):\n",
    "    avg_precs = [recall(gold, rlist, n) for gold, rlist in zip(golds, rankings)]\n",
    "    return np.array(avg_precs).mean()\n",
    "\n",
    "def get_negative_ranks(ranks, gold):\n",
    "    return [r for r in ranks if r!=gold]\n",
    "\n",
    "def get_negative_ranks_arr(ranks, gold):\n",
    "    n_ranks = [get_negative_ranks(r, g) for r,g in zip(ranks, claim_idx)]\n",
    "    return np.array(n_ranks)\n",
    "\n",
    "all_tweet_embs = {}\n",
    "map_results = {}\n",
    "map_recall_results = {}\n",
    "for ptn in [\"train\", \"dev\", \"test\"]:\n",
    "    if ptn == \"train\":\n",
    "        run_tweets, claim_idx = get_idx(train_conns, claims, tweets)\n",
    "    elif ptn == \"dev\":\n",
    "        run_tweets, claim_idx = get_idx(dev_conns, claims, tweets)\n",
    "    elif ptn == \"test\":\n",
    "        run_tweets, claim_idx = get_idx(test_conns, claims, test_tweets)\n",
    "\n",
    "    tweet_embs = model.encode(run_tweets.tweet.to_list())\n",
    "    all_tweet_embs[ptn] = tweet_embs\n",
    "    scores = tweet_embs @ embs.T\n",
    "    ranks = [score.argsort()[::-1] for score in scores]\n",
    "    if save_ranks:\n",
    "        np.save(f\"./experiments/candidate_selection/finetune_st5_large_claims_negs/negative_embs_{ptn}.npy\",\n",
    "                get_negative_ranks_arr(ranks, claim_idx))\n",
    "        np.save(f\"./experiments/candidate_selection/finetune_st5_large_claims_negs/ranks_{ptn}.npy\",\n",
    "                np.array(ranks))\n",
    "    \n",
    "    map_results[ptn] = []\n",
    "    for n in [1,5,10,20]:\n",
    "        map_results[ptn].append(mean_avg_prec(claim_idx, ranks, n))\n",
    "        \n",
    "    map_recall_results[ptn] = []\n",
    "    for n in [1,5,10,20]:\n",
    "        map_recall_results[ptn].append(mean_recall(claim_idx, ranks, n))\n",
    "        \n",
    "if save_tweet_embs:\n",
    "    np.save(\"./experiments/candidate_selection/finetune_st5_large_claims_negs/tweet_embs.npy\", all_tweet_embs)"
   ]
  },
  {
   "cell_type": "code",
   "execution_count": 7,
   "id": "6427531b-4b93-4eff-83f0-e62f4dca9da5",
   "metadata": {},
   "outputs": [
    {
     "data": {
      "text/plain": [
       "{'train': [0.8848848848848849,\n",
       "  0.9181181181181182,\n",
       "  0.9199461366128032,\n",
       "  0.92073154938652],\n",
       " 'dev': [0.95, 0.9616666666666667, 0.9640476190476189, 0.9643809523809523],\n",
       " 'test': [0.905940594059406,\n",
       "  0.9364686468646864,\n",
       "  0.9378830740216878,\n",
       "  0.9385550869243355]}"
      ]
     },
     "execution_count": 7,
     "metadata": {},
     "output_type": "execute_result"
    }
   ],
   "source": [
    "map_results"
   ]
  },
  {
   "cell_type": "code",
   "execution_count": 8,
   "id": "ccb8b099-3e5c-4939-86a1-5c481ad25e4d",
   "metadata": {},
   "outputs": [
    {
     "data": {
      "text/plain": [
       "{'train': [0.8848848848848849,\n",
       "  0.9629629629629629,\n",
       "  0.975975975975976,\n",
       "  0.986986986986987],\n",
       " 'dev': [0.95, 0.975, 0.99, 0.995],\n",
       " 'test': [0.905940594059406,\n",
       "  0.9752475247524752,\n",
       "  0.9851485148514851,\n",
       "  0.995049504950495]}"
      ]
     },
     "execution_count": 8,
     "metadata": {},
     "output_type": "execute_result"
    }
   ],
   "source": [
    "map_recall_results"
   ]
  },
  {
   "cell_type": "code",
   "execution_count": null,
   "id": "7f92831f-f363-46c9-b21b-d23ee9ab0512",
   "metadata": {},
   "outputs": [],
   "source": []
  },
  {
   "cell_type": "code",
   "execution_count": null,
   "id": "2fcff182-58ff-468c-9754-115ab45d57b6",
   "metadata": {},
   "outputs": [],
   "source": []
  },
  {
   "cell_type": "code",
   "execution_count": null,
   "id": "b5c70fcb-3547-4475-ad14-c2dd001d3b04",
   "metadata": {},
   "outputs": [],
   "source": []
  },
  {
   "cell_type": "code",
   "execution_count": null,
   "id": "e1492b3e-5d86-420a-878b-5a80040ab84f",
   "metadata": {},
   "outputs": [],
   "source": []
  },
  {
   "cell_type": "code",
   "execution_count": null,
   "id": "dc305448-06e2-4c35-b033-e46288afa2d1",
   "metadata": {},
   "outputs": [],
   "source": []
  },
  {
   "cell_type": "code",
   "execution_count": 8,
   "id": "afd54900-19bf-4d0b-9633-a35f9b7e764f",
   "metadata": {},
   "outputs": [],
   "source": [
    "def get_negative_ranks(ranks, gold):\n",
    "    return [r for r in ranks if r!=gold]\n",
    "\n",
    "def get_negative_ranks_arr(ranks, gold):\n",
    "    n_ranks = [get_negative_ranks(r, g) for r,g in zip(ranks, claim_idx)]\n",
    "    return np.array(n_ranks)"
   ]
  },
  {
   "cell_type": "code",
   "execution_count": 13,
   "id": "5199f099-b588-45f0-aae1-65f7e520c0f9",
   "metadata": {},
   "outputs": [],
   "source": [
    "top_k = 10\n",
    "n_ranks = [get_negative_ranks(r, g) for r,g in zip(ranks, claim_idx)]"
   ]
  },
  {
   "cell_type": "code",
   "execution_count": 14,
   "id": "7d0127de-62bf-4de3-bfa0-230947828913",
   "metadata": {},
   "outputs": [
    {
     "data": {
      "text/plain": [
       "(202, 202)"
      ]
     },
     "execution_count": 14,
     "metadata": {},
     "output_type": "execute_result"
    }
   ],
   "source": [
    "len(claim_idx), len(ranks)"
   ]
  },
  {
   "cell_type": "code",
   "execution_count": 21,
   "id": "ef5b8dda-a85d-44a9-9758-5949de9984f2",
   "metadata": {
    "tags": []
   },
   "outputs": [
    {
     "data": {
      "text/plain": [
       "(202, 13824)"
      ]
     },
     "execution_count": 21,
     "metadata": {},
     "output_type": "execute_result"
    }
   ],
   "source": [
    "np.array(n_ranks).shape"
   ]
  },
  {
   "cell_type": "code",
   "execution_count": 20,
   "id": "dc5fd677-7874-4947-a147-4e8c28d2a284",
   "metadata": {},
   "outputs": [],
   "source": [
    "np.save(\"./experiments/finetune_st5_large_claims_negs/claim_embs.npy\", embs)"
   ]
  },
  {
   "cell_type": "code",
   "execution_count": null,
   "id": "676b0a1b-d999-4350-af2d-3bde1ccd92a8",
   "metadata": {},
   "outputs": [],
   "source": []
  }
 ],
 "metadata": {
  "kernelspec": {
   "display_name": "torch",
   "language": "python",
   "name": "torch"
  },
  "language_info": {
   "codemirror_mode": {
    "name": "ipython",
    "version": 3
   },
   "file_extension": ".py",
   "mimetype": "text/x-python",
   "name": "python",
   "nbconvert_exporter": "python",
   "pygments_lexer": "ipython3",
   "version": "3.7.11"
  }
 },
 "nbformat": 4,
 "nbformat_minor": 5
}
