{
 "cells": [
  {
   "cell_type": "code",
   "execution_count": 1,
   "id": "76b30f04-91fa-499e-8503-ba9553d866ec",
   "metadata": {},
   "outputs": [],
   "source": [
    "import pandas as pd\n",
    "import json\n",
    "import os\n",
    "import numpy as np\n",
    "import torch\n",
    "import utils"
   ]
  },
  {
   "cell_type": "code",
   "execution_count": 2,
   "id": "06c97dbf-388e-42a2-b833-e37004889e9c",
   "metadata": {},
   "outputs": [],
   "source": [
    "tweets, test_tweets = utils.get_tweets()\n",
    "test_tweets = test_tweets[1:]\n",
    "train_conns, dev_conns, test_conns = utils.get_qrels()\n",
    "claims = utils.get_claims()"
   ]
  },
  {
   "cell_type": "code",
   "execution_count": 4,
   "id": "e8615d95-ff4e-4c21-83ea-e198e4960ad7",
   "metadata": {},
   "outputs": [
    {
     "data": {
      "text/plain": [
       "<All keys matched successfully>"
      ]
     },
     "execution_count": 4,
     "metadata": {},
     "output_type": "execute_result"
    }
   ],
   "source": [
    "from sentence_transformers import SentenceTransformer\n",
    "\n",
    "os.environ[\"CUDA_VISIBLE_DEVICES\"] = \"0\"\n",
    "model_str = \"sentence-transformers/sentence-t5-large\"\n",
    "ft_str = \"./experiments/finetune_st5_large_claims_negs/model.pt\"\n",
    "model = SentenceTransformer(model_str)\n",
    "model.load_state_dict(torch.load(ft_str))"
   ]
  },
  {
   "cell_type": "code",
   "execution_count": 5,
   "id": "92cf144c-c873-4a8c-8974-d23fd4f19f12",
   "metadata": {},
   "outputs": [],
   "source": [
    "embs = model.encode(claims.vclaim.to_list())"
   ]
  },
  {
   "cell_type": "code",
   "execution_count": 6,
   "id": "d793adfd-53ba-4aa7-b31f-101f1821c0aa",
   "metadata": {},
   "outputs": [],
   "source": [
    "def get_idx(connections, claims, tweets):\n",
    "    run_tweets = tweets.join(connections.set_index(\"tweet_id\"), on=\"id\", how=\"inner\")\n",
    "    run_tweets = run_tweets.join(claims.set_index(\"vclaim_id\"), on=\"claim_id\", how=\"inner\")\n",
    "    run_tweets = run_tweets[[\"tweet\", \"vclaim\"]].reset_index()\n",
    "    claim_idx = [claims.vclaim.to_list().index(t_claim) for t_claim in run_tweets.vclaim.to_list()]\n",
    "    return run_tweets, claim_idx\n",
    "\n",
    "def avg_prec(gold, rankings, n):\n",
    "    is_rel = (np.array(rankings)[:n] == gold).astype(float)\n",
    "    return (is_rel/np.arange(1,n+1)).sum()\n",
    "\n",
    "def mean_avg_prec(golds, rankings, n):\n",
    "    avg_precs = [avg_prec(gold, rlist, n) for gold, rlist in zip(golds, rankings)]\n",
    "    return np.array(avg_precs).mean()\n",
    "\n",
    "map_results = {}\n",
    "for ptn in [\"train\", \"dev\", \"test\"]:\n",
    "    if ptn == \"train\":\n",
    "        run_tweets, claim_idx = get_idx(train_conns, claims, tweets)\n",
    "    elif ptn == \"dev\":\n",
    "        run_tweets, claim_idx = get_idx(dev_conns, claims, tweets)\n",
    "    elif ptn == \"test\":\n",
    "        run_tweets, claim_idx = get_idx(test_conns, claims, test_tweets)\n",
    "\n",
    "    tweet_embs = model.encode(run_tweets.tweet.to_list())\n",
    "    scores = tweet_embs @ embs.T\n",
    "    ranks = [score.argsort()[::-1] for score in scores]\n",
    "    \n",
    "    map_results[ptn] = []\n",
    "    for n in [1,5,10,20]:\n",
    "        map_results[ptn].append(mean_avg_prec(claim_idx, ranks, n))"
   ]
  },
  {
   "cell_type": "code",
   "execution_count": 7,
   "id": "6427531b-4b93-4eff-83f0-e62f4dca9da5",
   "metadata": {},
   "outputs": [
    {
     "data": {
      "text/plain": [
       "{'train': [0.8848848848848849,\n",
       "  0.9181181181181182,\n",
       "  0.9199461366128032,\n",
       "  0.92073154938652],\n",
       " 'dev': [0.95, 0.9616666666666667, 0.9640476190476189, 0.9643809523809523],\n",
       " 'test': [0.905940594059406,\n",
       "  0.9364686468646864,\n",
       "  0.9378830740216878,\n",
       "  0.9385550869243355]}"
      ]
     },
     "execution_count": 7,
     "metadata": {},
     "output_type": "execute_result"
    }
   ],
   "source": [
    "# def print_results_tables\n",
    "\n",
    "map_results"
   ]
  },
  {
   "cell_type": "code",
   "execution_count": null,
   "id": "afd54900-19bf-4d0b-9633-a35f9b7e764f",
   "metadata": {},
   "outputs": [],
   "source": []
  },
  {
   "cell_type": "code",
   "execution_count": null,
   "id": "5199f099-b588-45f0-aae1-65f7e520c0f9",
   "metadata": {},
   "outputs": [],
   "source": []
  }
 ],
 "metadata": {
  "kernelspec": {
   "display_name": "torch",
   "language": "python",
   "name": "torch"
  },
  "language_info": {
   "codemirror_mode": {
    "name": "ipython",
    "version": 3
   },
   "file_extension": ".py",
   "mimetype": "text/x-python",
   "name": "python",
   "nbconvert_exporter": "python",
   "pygments_lexer": "ipython3",
   "version": "3.7.11"
  }
 },
 "nbformat": 4,
 "nbformat_minor": 5
}
