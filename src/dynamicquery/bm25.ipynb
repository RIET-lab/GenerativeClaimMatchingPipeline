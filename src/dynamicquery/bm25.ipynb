{
 "cells": [
  {
   "cell_type": "code",
   "execution_count": 1,
   "id": "56d18424-27ec-4b10-b0c4-b7179eca0b68",
   "metadata": {},
   "outputs": [],
   "source": [
    "import pandas as pd\n",
    "import json\n",
    "import os\n",
    "from rank_bm25 import BM25Okapi\n",
    "from matplotlib import pyplot as plt\n",
    "import numpy as np\n",
    "import utils"
   ]
  },
  {
   "cell_type": "code",
   "execution_count": 16,
   "id": "db753728-130d-47f8-a50b-20d7edba2788",
   "metadata": {
    "tags": []
   },
   "outputs": [],
   "source": [
    "import nltk\n",
    "import re\n",
    "from nltk.corpus import stopwords\n",
    "from nltk.stem import PorterStemmer\n",
    "\n",
    "sw_nltk = stopwords.words('english')\n",
    "porter = PorterStemmer()\n",
    "\n",
    "def preprocess(sentence):\n",
    "    sentence = sentence.lower()\n",
    "    return sentence.split()\n",
    "    sentence = re.sub(r'[^\\w\\s]', '', sentence)\n",
    "    return [porter.stem(word) for word in sentence.split() if word not in sw_nltk]"
   ]
  },
  {
   "cell_type": "code",
   "execution_count": 17,
   "id": "a388c1d2-fd45-4a88-acfc-1b01a8d132c3",
   "metadata": {},
   "outputs": [],
   "source": [
    "import importlib\n",
    "importlib.reload(utils)\n",
    "\n",
    "tweets, test_tweets = utils.get_tweets()\n",
    "test_tweets = test_tweets[1:]\n",
    "train_conns, dev_conns, test_conns = utils.get_qrels()\n",
    "claims = utils.get_claims()"
   ]
  },
  {
   "cell_type": "code",
   "execution_count": 18,
   "id": "9768d7c0-9cbd-42a8-b020-0699c4cff412",
   "metadata": {},
   "outputs": [
    {
     "data": {
      "text/plain": [
       "13825"
      ]
     },
     "execution_count": 18,
     "metadata": {},
     "output_type": "execute_result"
    }
   ],
   "source": [
    "len(claims)"
   ]
  },
  {
   "cell_type": "code",
   "execution_count": 19,
   "id": "b2fa635e-7738-484d-937b-bb9c8f0a3d53",
   "metadata": {
    "tags": []
   },
   "outputs": [
    {
     "data": {
      "text/plain": [
       "(999,)"
      ]
     },
     "execution_count": 19,
     "metadata": {},
     "output_type": "execute_result"
    }
   ],
   "source": [
    "# claims.reset_index()\n",
    "claims.iloc[train_conns.negative_claim_idx].vclaim.to_numpy().shape"
   ]
  },
  {
   "cell_type": "code",
   "execution_count": 20,
   "id": "301f96b8-8613-468b-9068-da67a95f5695",
   "metadata": {},
   "outputs": [
    {
     "data": {
      "text/html": [
       "<div>\n",
       "<style scoped>\n",
       "    .dataframe tbody tr th:only-of-type {\n",
       "        vertical-align: middle;\n",
       "    }\n",
       "\n",
       "    .dataframe tbody tr th {\n",
       "        vertical-align: top;\n",
       "    }\n",
       "\n",
       "    .dataframe thead th {\n",
       "        text-align: right;\n",
       "    }\n",
       "</style>\n",
       "<table border=\"1\" class=\"dataframe\">\n",
       "  <thead>\n",
       "    <tr style=\"text-align: right;\">\n",
       "      <th></th>\n",
       "      <th>tweet_id</th>\n",
       "      <th>tweet_num</th>\n",
       "      <th>claim_id</th>\n",
       "      <th>claim_num</th>\n",
       "      <th>negative_claim_idx</th>\n",
       "    </tr>\n",
       "  </thead>\n",
       "  <tbody>\n",
       "    <tr>\n",
       "      <th>0</th>\n",
       "      <td>tweet-sno-0</td>\n",
       "      <td>0</td>\n",
       "      <td>vclaim-sno-hero-wombats-australia-fires</td>\n",
       "      <td>1</td>\n",
       "      <td>1448</td>\n",
       "    </tr>\n",
       "    <tr>\n",
       "      <th>1</th>\n",
       "      <td>tweet-sno-1</td>\n",
       "      <td>0</td>\n",
       "      <td>vclaim-sno-ilhan-omar-treason-advice-iran</td>\n",
       "      <td>1</td>\n",
       "      <td>13330</td>\n",
       "    </tr>\n",
       "    <tr>\n",
       "      <th>2</th>\n",
       "      <td>tweet-sno-2</td>\n",
       "      <td>0</td>\n",
       "      <td>vclaim-sno-us-army-sending-texts-on-draft</td>\n",
       "      <td>1</td>\n",
       "      <td>10686</td>\n",
       "    </tr>\n",
       "    <tr>\n",
       "      <th>3</th>\n",
       "      <td>tweet-sno-3</td>\n",
       "      <td>0</td>\n",
       "      <td>vclaim-sno-us-army-sending-texts-on-draft</td>\n",
       "      <td>1</td>\n",
       "      <td>13142</td>\n",
       "    </tr>\n",
       "    <tr>\n",
       "      <th>4</th>\n",
       "      <td>tweet-sno-4</td>\n",
       "      <td>0</td>\n",
       "      <td>vclaim-sno-video-of-drone-strike-soleimani</td>\n",
       "      <td>1</td>\n",
       "      <td>10071</td>\n",
       "    </tr>\n",
       "  </tbody>\n",
       "</table>\n",
       "</div>"
      ],
      "text/plain": [
       "      tweet_id  tweet_num                                    claim_id  \\\n",
       "0  tweet-sno-0          0     vclaim-sno-hero-wombats-australia-fires   \n",
       "1  tweet-sno-1          0   vclaim-sno-ilhan-omar-treason-advice-iran   \n",
       "2  tweet-sno-2          0   vclaim-sno-us-army-sending-texts-on-draft   \n",
       "3  tweet-sno-3          0   vclaim-sno-us-army-sending-texts-on-draft   \n",
       "4  tweet-sno-4          0  vclaim-sno-video-of-drone-strike-soleimani   \n",
       "\n",
       "   claim_num  negative_claim_idx  \n",
       "0          1                1448  \n",
       "1          1               13330  \n",
       "2          1               10686  \n",
       "3          1               13142  \n",
       "4          1               10071  "
      ]
     },
     "execution_count": 20,
     "metadata": {},
     "output_type": "execute_result"
    }
   ],
   "source": [
    "train_conns.head()"
   ]
  },
  {
   "cell_type": "code",
   "execution_count": 21,
   "id": "a80176ce-65c8-4324-a3fc-1cffa14dc579",
   "metadata": {},
   "outputs": [],
   "source": [
    "# corpus = claims.vclaim.to_list()\n",
    "corpus = claims[[\"title\", \"subtitle\", \"vclaim\"]].apply(lambda x: x[0]+' '+x[1]+' '+x[2], axis=1).to_list()\n",
    "tokenized_corpus = [preprocess(doc) for doc in corpus]\n",
    "bm25 = BM25Okapi(tokenized_corpus)"
   ]
  },
  {
   "cell_type": "code",
   "execution_count": 22,
   "id": "8639e1df-fd51-413a-8c59-e60feb754d65",
   "metadata": {},
   "outputs": [],
   "source": [
    "def get_bm25_rankings(connections, claims, tweets):\n",
    "    run_tweets = tweets.join(connections.set_index(\"tweet_id\"), on=\"id\", how=\"inner\")\n",
    "    run_tweets = run_tweets.join(claims.set_index(\"vclaim_id\"), on=\"claim_id\", how=\"inner\")\n",
    "    run_tweets = run_tweets[[\"tweet\", \"vclaim\"]]\n",
    "    claim_idx = [claims.vclaim.to_list().index(t_claim) for t_claim in run_tweets.vclaim.to_list()]\n",
    "    \n",
    "    queries = run_tweets.tweet.to_list()\n",
    "    tokenized_queries = [preprocess(query) for query in queries]\n",
    "    doc_scores = [bm25.get_scores(query) for query in tokenized_queries]\n",
    "    doc_ranks = [score.argsort()[::-1] for score in doc_scores]\n",
    "    label_ranks = [list(doc_rank).index(idx) for idx, doc_rank in zip(claim_idx, doc_ranks)]\n",
    "    \n",
    "    return doc_scores, doc_ranks, claim_idx, label_ranks"
   ]
  },
  {
   "cell_type": "code",
   "execution_count": 23,
   "id": "fe4bf349-50d7-4c1e-8b0e-c291ef9535e3",
   "metadata": {
    "tags": []
   },
   "outputs": [],
   "source": [
    "doc_scores, doc_ranks, claim_idx, label_ranks = get_bm25_rankings(train_conns, claims, tweets)"
   ]
  },
  {
   "cell_type": "code",
   "execution_count": 24,
   "id": "572a2028-6c3a-4653-a588-e0478000f7e7",
   "metadata": {},
   "outputs": [],
   "source": [
    "cumulatives = []\n",
    "N = 100\n",
    "for i in range(N):\n",
    "    cumulatives.append((np.array(label_ranks) <= i).sum() / len(label_ranks))"
   ]
  },
  {
   "cell_type": "code",
   "execution_count": 25,
   "id": "8e7373f4-3011-4555-b54e-7cc9325158d7",
   "metadata": {},
   "outputs": [
    {
     "data": {
      "text/plain": [
       "Text(0.5, 1.0, 'Recall vs BM25 ranking on training partition')"
      ]
     },
     "execution_count": 25,
     "metadata": {},
     "output_type": "execute_result"
    },
    {
     "data": {
      "image/png": "[encoded data removed]",
      "text/plain": [
       "<Figure size 432x288 with 1 Axes>"
      ]
     },
     "metadata": {
      "needs_background": "light"
     },
     "output_type": "display_data"
    }
   ],
   "source": [
    "plt.plot(range(N), cumulatives)\n",
    "plt.xlabel(\"ranking\")\n",
    "plt.ylabel(\"recall\")\n",
    "plt.title(\"Recall vs BM25 ranking on training partition\")"
   ]
  },
  {
   "cell_type": "code",
   "execution_count": 26,
   "id": "479cd95c-ff92-4d9d-b0b8-9b929caada98",
   "metadata": {},
   "outputs": [],
   "source": [
    "def avg_prec(gold, rankings, n):\n",
    "    is_rel = (np.array(rankings)[:n] == gold).astype(float)\n",
    "    return (is_rel/np.arange(1,n+1)).sum()\n",
    "\n",
    "def mean_avg_prec(golds, rankings, n):\n",
    "    avg_precs = [avg_prec(gold, rlist, n) for gold, rlist in zip(golds, rankings)]\n",
    "    return np.array(avg_precs).mean()"
   ]
  },
  {
   "cell_type": "code",
   "execution_count": 27,
   "id": "61d5ef8e-174c-4c54-bc4a-3adbc5b57383",
   "metadata": {},
   "outputs": [],
   "source": [
    "doc_scores, doc_ranks, claim_idx, label_ranks = get_bm25_rankings(train_conns, claims, tweets)\n",
    "\n",
    "map_results = {}\n",
    "for ptn in [\"train\", \"dev\", \"test\"]:\n",
    "    if ptn == \"train\":\n",
    "        doc_scores, doc_ranks, claim_idx, label_ranks = get_bm25_rankings(train_conns, claims, tweets)\n",
    "    elif ptn == \"dev\":\n",
    "        doc_scores, doc_ranks, claim_idx, label_ranks = get_bm25_rankings(dev_conns, claims, tweets)\n",
    "    elif ptn == \"test\":\n",
    "        doc_scores, doc_ranks, claim_idx, label_ranks = get_bm25_rankings(test_conns, claims, test_tweets)\n",
    "    \n",
    "    map_results[ptn] = []\n",
    "    for n in [1,5,10,20]:\n",
    "        map_results[ptn].append(mean_avg_prec(claim_idx, doc_ranks, n))"
   ]
  },
  {
   "cell_type": "code",
   "execution_count": 28,
   "id": "29072108-bb37-45a1-a5df-0bfef0f65a16",
   "metadata": {},
   "outputs": [
    {
     "data": {
      "text/plain": [
       "{'train': [0.5805805805805806,\n",
       "  0.6301301301301301,\n",
       "  0.6358644358644359,\n",
       "  0.6378184190447692],\n",
       " 'dev': [0.655, 0.70475, 0.7085892857142858, 0.7112121371275784],\n",
       " 'test': [0.6336633663366337,\n",
       "  0.6882013201320133,\n",
       "  0.6961280056577086,\n",
       "  0.6971105052234546]}"
      ]
     },
     "execution_count": 28,
     "metadata": {},
     "output_type": "execute_result"
    }
   ],
   "source": [
    "map_results"
   ]
  },
  {
   "cell_type": "code",
   "execution_count": null,
   "id": "e013382f-30f4-4f7a-962c-f8b98a285253",
   "metadata": {},
   "outputs": [],
   "source": []
  },
  {
   "cell_type": "code",
   "execution_count": null,
   "id": "063fad05-c055-4dda-8ce4-92e3965297d4",
   "metadata": {},
   "outputs": [],
   "source": []
  },
  {
   "cell_type": "code",
   "execution_count": null,
   "id": "d697a45e-8b11-4aa0-a8c0-ab6e0b0e0936",
   "metadata": {},
   "outputs": [],
   "source": [
    "top_negative_ranks = [doc_rank[~np.isin(doc_rank, claim_idx)][0] for doc_rank in doc_ranks]"
   ]
  },
  {
   "cell_type": "code",
   "execution_count": null,
   "id": "1abaff30-2ed6-4f72-b13b-40d6aa9a8819",
   "metadata": {
    "tags": []
   },
   "outputs": [],
   "source": [
    "#with open(\"train_negative_ranks.npy\", \"w\") as f:\n",
    "np.save(\"train_negative_ranks.npy\", top_negative_ranks)"
   ]
  },
  {
   "cell_type": "code",
   "execution_count": null,
   "id": "79d05b30-3ef5-43f8-91ac-d7ab69687b8e",
   "metadata": {},
   "outputs": [],
   "source": [
    "np.load(\"train_negative_ranks.npy\").shape"
   ]
  },
  {
   "cell_type": "code",
   "execution_count": 74,
   "id": "a7dded5a-a2a9-48e1-b87e-f30364e18813",
   "metadata": {},
   "outputs": [
    {
     "data": {
      "text/html": [
       "<div>\n",
       "<style scoped>\n",
       "    .dataframe tbody tr th:only-of-type {\n",
       "        vertical-align: middle;\n",
       "    }\n",
       "\n",
       "    .dataframe tbody tr th {\n",
       "        vertical-align: top;\n",
       "    }\n",
       "\n",
       "    .dataframe thead th {\n",
       "        text-align: right;\n",
       "    }\n",
       "</style>\n",
       "<table border=\"1\" class=\"dataframe\">\n",
       "  <thead>\n",
       "    <tr style=\"text-align: right;\">\n",
       "      <th></th>\n",
       "      <th>tweet_id</th>\n",
       "      <th>tweet_num</th>\n",
       "      <th>claim_id</th>\n",
       "      <th>claim_num</th>\n",
       "      <th>negative_claim_idx</th>\n",
       "    </tr>\n",
       "  </thead>\n",
       "  <tbody>\n",
       "    <tr>\n",
       "      <th>0</th>\n",
       "      <td>tweet-sno-0</td>\n",
       "      <td>0</td>\n",
       "      <td>vclaim-sno-hero-wombats-australia-fires</td>\n",
       "      <td>1</td>\n",
       "      <td>1448</td>\n",
       "    </tr>\n",
       "    <tr>\n",
       "      <th>1</th>\n",
       "      <td>tweet-sno-1</td>\n",
       "      <td>0</td>\n",
       "      <td>vclaim-sno-ilhan-omar-treason-advice-iran</td>\n",
       "      <td>1</td>\n",
       "      <td>13330</td>\n",
       "    </tr>\n",
       "    <tr>\n",
       "      <th>2</th>\n",
       "      <td>tweet-sno-2</td>\n",
       "      <td>0</td>\n",
       "      <td>vclaim-sno-us-army-sending-texts-on-draft</td>\n",
       "      <td>1</td>\n",
       "      <td>10686</td>\n",
       "    </tr>\n",
       "    <tr>\n",
       "      <th>3</th>\n",
       "      <td>tweet-sno-3</td>\n",
       "      <td>0</td>\n",
       "      <td>vclaim-sno-us-army-sending-texts-on-draft</td>\n",
       "      <td>1</td>\n",
       "      <td>13142</td>\n",
       "    </tr>\n",
       "    <tr>\n",
       "      <th>4</th>\n",
       "      <td>tweet-sno-4</td>\n",
       "      <td>0</td>\n",
       "      <td>vclaim-sno-video-of-drone-strike-soleimani</td>\n",
       "      <td>1</td>\n",
       "      <td>10071</td>\n",
       "    </tr>\n",
       "  </tbody>\n",
       "</table>\n",
       "</div>"
      ],
      "text/plain": [
       "      tweet_id  tweet_num                                    claim_id  \\\n",
       "0  tweet-sno-0          0     vclaim-sno-hero-wombats-australia-fires   \n",
       "1  tweet-sno-1          0   vclaim-sno-ilhan-omar-treason-advice-iran   \n",
       "2  tweet-sno-2          0   vclaim-sno-us-army-sending-texts-on-draft   \n",
       "3  tweet-sno-3          0   vclaim-sno-us-army-sending-texts-on-draft   \n",
       "4  tweet-sno-4          0  vclaim-sno-video-of-drone-strike-soleimani   \n",
       "\n",
       "   claim_num  negative_claim_idx  \n",
       "0          1                1448  \n",
       "1          1               13330  \n",
       "2          1               10686  \n",
       "3          1               13142  \n",
       "4          1               10071  "
      ]
     },
     "execution_count": 74,
     "metadata": {},
     "output_type": "execute_result"
    }
   ],
   "source": [
    "train_conns.head()"
   ]
  },
  {
   "cell_type": "code",
   "execution_count": 73,
   "id": "4669f430-45d3-418c-8106-8fe9444b316b",
   "metadata": {},
   "outputs": [],
   "source": [
    "np.load(\"train_negative_ranks.npy\").shape\n",
    "train_conns[\"negative_claim_idx\"] = top_negative_ranks"
   ]
  },
  {
   "cell_type": "code",
   "execution_count": null,
   "id": "6c14556d-c91a-4567-b5cf-c5f79140d0bd",
   "metadata": {},
   "outputs": [],
   "source": []
  }
 ],
 "metadata": {
  "kernelspec": {
   "display_name": "torch",
   "language": "python",
   "name": "torch"
  },
  "language_info": {
   "codemirror_mode": {
    "name": "ipython",
    "version": 3
   },
   "file_extension": ".py",
   "mimetype": "text/x-python",
   "name": "python",
   "nbconvert_exporter": "python",
   "pygments_lexer": "ipython3",
   "version": "3.7.11"
  }
 },
 "nbformat": 4,
 "nbformat_minor": 5
}
