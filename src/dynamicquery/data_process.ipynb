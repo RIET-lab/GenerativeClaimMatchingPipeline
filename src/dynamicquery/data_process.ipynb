{
 "cells": [
  {
   "cell_type": "code",
   "execution_count": 4,
   "id": "b69e0bdf-2c0f-4ad1-831b-e8ef2e74db4c",
   "metadata": {},
   "outputs": [],
   "source": [
    "import pandas as pd\n",
    "import json\n",
    "import os"
   ]
  },
  {
   "cell_type": "code",
   "execution_count": 5,
   "id": "48c640ce-9457-45a8-9f39-b43c9bb88580",
   "metadata": {},
   "outputs": [],
   "source": [
    "datapath = \"data/train/\"\n",
    "\n",
    "def get_tweets():\n",
    "    return pd.read_csv(os.path.join(datapath, \"tweets-train-dev.tsv\"), sep=\"\\t\", names=[\"id\",\"tweet\"])\n",
    "\n",
    "def get_qrels():\n",
    "    conn_names = [\"tweet_id\", \"tweet_num\", \"claim_id\", \"claim_num\"]\n",
    "    train_conns = pd.read_csv(os.path.join(datapath, \"qrels-train.tsv\"), sep=\"\\t\", names=conn_names)\n",
    "    dev_conns = pd.read_csv(os.path.join(datapath, \"qrels-dev.tsv\"), sep=\"\\t\", names=conn_names)\n",
    "    return train_conns, dev_conns\n",
    "\n",
    "def get_claims():\n",
    "    # claimpaths = [os.path.join(datapath, \"vclaims\", f\"{claim_id}.json\") for claim_id in claim_ids]\n",
    "    claimpath = os.path.join(datapath, \"vclaims\")\n",
    "    claimpaths = [os.path.join(claimpath, f) for f in os.listdir(claimpath)]\n",
    "    def load_claim(path):\n",
    "        with open(path) as f:\n",
    "            return json.load(f)\n",
    "    \n",
    "    claims = [load_claim(path) for path in claimpaths]\n",
    "    return pd.DataFrame(claims, columns=[\"title\",\"subtitle\",\"author\",\"date\",\"vclaim_id\",\"vclaim\"])"
   ]
  },
  {
   "cell_type": "code",
   "execution_count": 6,
   "id": "c12d4579-dcfd-454a-ab6e-e84370baf3f6",
   "metadata": {},
   "outputs": [],
   "source": [
    "tweets = get_tweets()\n",
    "train_conns, dev_conns = get_qrels()\n",
    "claims = get_claims()#[*train_conns.claim_id.to_list(), *dev_conns.claim_id.to_list()])"
   ]
  },
  {
   "cell_type": "code",
   "execution_count": 77,
   "id": "415221f7-cdae-43c3-8b68-fd011b785986",
   "metadata": {},
   "outputs": [
    {
     "data": {
      "text/plain": [
       "(13825, 999, 200)"
      ]
     },
     "execution_count": 77,
     "metadata": {},
     "output_type": "execute_result"
    }
   ],
   "source": [
    "len(claims), len(train_conns), len(dev_conns)"
   ]
  },
  {
   "cell_type": "code",
   "execution_count": 76,
   "id": "da3415b7-3fe2-4324-b2a9-e9cea2df63ee",
   "metadata": {},
   "outputs": [
    {
     "data": {
      "text/plain": [
       "['Wombats are herding animals and inviting them into their burrows in order to escape the wildfires in Australia.',\n",
       " 'In January 2021, scientists discovered that the exceptionally rectangular droppings of wombats are the result of an uniquely evolved gastrointestinal system and not a cube-shaped anus as was previously proposed.']"
      ]
     },
     "execution_count": 76,
     "metadata": {},
     "output_type": "execute_result"
    }
   ],
   "source": [
    "[c for c in claims.vclaim if 'wombat' in c.lower()]"
   ]
  },
  {
   "cell_type": "code",
   "execution_count": 68,
   "id": "f6e737e4-8da0-4962-989c-7d979e5d8c59",
   "metadata": {},
   "outputs": [
    {
     "data": {
      "text/html": [
       "<div>\n",
       "<style scoped>\n",
       "    .dataframe tbody tr th:only-of-type {\n",
       "        vertical-align: middle;\n",
       "    }\n",
       "\n",
       "    .dataframe tbody tr th {\n",
       "        vertical-align: top;\n",
       "    }\n",
       "\n",
       "    .dataframe thead th {\n",
       "        text-align: right;\n",
       "    }\n",
       "</style>\n",
       "<table border=\"1\" class=\"dataframe\">\n",
       "  <thead>\n",
       "    <tr style=\"text-align: right;\">\n",
       "      <th></th>\n",
       "      <th>id</th>\n",
       "      <th>tweet</th>\n",
       "    </tr>\n",
       "  </thead>\n",
       "  <tbody>\n",
       "    <tr>\n",
       "      <th>0</th>\n",
       "      <td>tweet-sno-0</td>\n",
       "      <td>How are butterflies surviving the #AustralianF...</td>\n",
       "    </tr>\n",
       "    <tr>\n",
       "      <th>1</th>\n",
       "      <td>tweet-sno-1</td>\n",
       "      <td>Trump needs to immediately divest from his bus...</td>\n",
       "    </tr>\n",
       "    <tr>\n",
       "      <th>2</th>\n",
       "      <td>tweet-sno-2</td>\n",
       "      <td>A number of fraudulent text messages informing...</td>\n",
       "    </tr>\n",
       "    <tr>\n",
       "      <th>3</th>\n",
       "      <td>tweet-sno-3</td>\n",
       "      <td>Fact check: The U.S. Army is NOT contacting an...</td>\n",
       "    </tr>\n",
       "    <tr>\n",
       "      <th>4</th>\n",
       "      <td>tweet-sno-4</td>\n",
       "      <td>The US drone attack on #Soleimani caught on ca...</td>\n",
       "    </tr>\n",
       "  </tbody>\n",
       "</table>\n",
       "</div>"
      ],
      "text/plain": [
       "            id                                              tweet\n",
       "0  tweet-sno-0  How are butterflies surviving the #AustralianF...\n",
       "1  tweet-sno-1  Trump needs to immediately divest from his bus...\n",
       "2  tweet-sno-2  A number of fraudulent text messages informing...\n",
       "3  tweet-sno-3  Fact check: The U.S. Army is NOT contacting an...\n",
       "4  tweet-sno-4  The US drone attack on #Soleimani caught on ca..."
      ]
     },
     "execution_count": 68,
     "metadata": {},
     "output_type": "execute_result"
    }
   ],
   "source": [
    "tweets.head()"
   ]
  },
  {
   "cell_type": "code",
   "execution_count": 58,
   "id": "bfde2de7-4813-43a0-96cd-1d22c03bf985",
   "metadata": {},
   "outputs": [
    {
     "name": "stdout",
     "output_type": "stream",
     "text": [
      "Trump needs to immediately divest from his businesses and comply with the emoluments clause. Iran could threaten Trump hotels *worldwide* and he could provoke war over the loss of revenue from skittish guests.  His business interests should not be driving military decisions. — Ilhan Omar (@IlhanMN) January 6, 2020\n",
      "----\n",
      "In January 2020, U.S. Rep. Ilhan Omar advised Iran to attack Trump-branded hotels in the world, thus committing treason.\n"
     ]
    }
   ],
   "source": [
    "print(tweets[tweets.id == train_conns.tweet_id[1]].tweet.to_numpy()[0])\n",
    "print('----')\n",
    "print(claims[claims.vclaim_id == train_conns.claim_id[1]].vclaim.to_numpy()[0])"
   ]
  },
  {
   "cell_type": "code",
   "execution_count": 64,
   "id": "1960b72b-7fb7-4633-a0bf-f78473dca166",
   "metadata": {},
   "outputs": [
    {
     "data": {
      "text/plain": [
       "1"
      ]
     },
     "execution_count": 64,
     "metadata": {},
     "output_type": "execute_result"
    }
   ],
   "source": [
    "dev_conns.claim_num.min()"
   ]
  },
  {
   "cell_type": "code",
   "execution_count": 78,
   "id": "61c7f726-f087-4c15-8980-c276a0549661",
   "metadata": {},
   "outputs": [
    {
     "data": {
      "application/vnd.jupyter.widget-view+json": {
       "model_id": "4bc1009bae8347948944a55054825f75",
       "version_major": 2,
       "version_minor": 0
      },
      "text/plain": [
       "Downloading:   0%|          | 0.00/1.18k [00:00<?, ?B/s]"
      ]
     },
     "metadata": {},
     "output_type": "display_data"
    },
    {
     "data": {
      "application/vnd.jupyter.widget-view+json": {
       "model_id": "f7d1895419db431083ebf1abdfbd7cde",
       "version_major": 2,
       "version_minor": 0
      },
      "text/plain": [
       "Downloading:   0%|          | 0.00/2.02k [00:00<?, ?B/s]"
      ]
     },
     "metadata": {},
     "output_type": "display_data"
    },
    {
     "data": {
      "application/vnd.jupyter.widget-view+json": {
       "model_id": "9605e788cef44d42ac0ddbeb787d8393",
       "version_major": 2,
       "version_minor": 0
      },
      "text/plain": [
       "Downloading:   0%|          | 0.00/1.39k [00:00<?, ?B/s]"
      ]
     },
     "metadata": {},
     "output_type": "display_data"
    },
    {
     "data": {
      "application/vnd.jupyter.widget-view+json": {
       "model_id": "db2cc06c35234a91b65387d183e66608",
       "version_major": 2,
       "version_minor": 0
      },
      "text/plain": [
       "Downloading:   0%|          | 0.00/122 [00:00<?, ?B/s]"
      ]
     },
     "metadata": {},
     "output_type": "display_data"
    },
    {
     "data": {
      "application/vnd.jupyter.widget-view+json": {
       "model_id": "82576e685d79455b9aba40969614320b",
       "version_major": 2,
       "version_minor": 0
      },
      "text/plain": [
       "Downloading:   0%|          | 0.00/461 [00:00<?, ?B/s]"
      ]
     },
     "metadata": {},
     "output_type": "display_data"
    },
    {
     "data": {
      "application/vnd.jupyter.widget-view+json": {
       "model_id": "2fba547ff4dc4a359c929b65cacbbc3a",
       "version_major": 2,
       "version_minor": 0
      },
      "text/plain": [
       "Downloading:   0%|          | 0.00/670M [00:00<?, ?B/s]"
      ]
     },
     "metadata": {},
     "output_type": "display_data"
    },
    {
     "data": {
      "application/vnd.jupyter.widget-view+json": {
       "model_id": "1accdf571bba48c8805b6dce71720662",
       "version_major": 2,
       "version_minor": 0
      },
      "text/plain": [
       "Downloading:   0%|          | 0.00/53.0 [00:00<?, ?B/s]"
      ]
     },
     "metadata": {},
     "output_type": "display_data"
    },
    {
     "data": {
      "application/vnd.jupyter.widget-view+json": {
       "model_id": "d0014335e0a54ad4afd31c7da9846a41",
       "version_major": 2,
       "version_minor": 0
      },
      "text/plain": [
       "Downloading:   0%|          | 0.00/1.79k [00:00<?, ?B/s]"
      ]
     },
     "metadata": {},
     "output_type": "display_data"
    },
    {
     "data": {
      "application/vnd.jupyter.widget-view+json": {
       "model_id": "b6938f52eb704bcda17ac0092949ed74",
       "version_major": 2,
       "version_minor": 0
      },
      "text/plain": [
       "Downloading:   0%|          | 0.00/792k [00:00<?, ?B/s]"
      ]
     },
     "metadata": {},
     "output_type": "display_data"
    },
    {
     "data": {
      "application/vnd.jupyter.widget-view+json": {
       "model_id": "9a844f304a0c4d26a6e58d66cdcf6aa1",
       "version_major": 2,
       "version_minor": 0
      },
      "text/plain": [
       "Downloading:   0%|          | 0.00/1.39M [00:00<?, ?B/s]"
      ]
     },
     "metadata": {},
     "output_type": "display_data"
    },
    {
     "data": {
      "application/vnd.jupyter.widget-view+json": {
       "model_id": "ba9021abc39146ad82e3ff77d0ac2b7b",
       "version_major": 2,
       "version_minor": 0
      },
      "text/plain": [
       "Downloading:   0%|          | 0.00/1.92k [00:00<?, ?B/s]"
      ]
     },
     "metadata": {},
     "output_type": "display_data"
    },
    {
     "data": {
      "application/vnd.jupyter.widget-view+json": {
       "model_id": "ea4f878b765442eca77cc67b60cbcf73",
       "version_major": 2,
       "version_minor": 0
      },
      "text/plain": [
       "Downloading:   0%|          | 0.00/190 [00:00<?, ?B/s]"
      ]
     },
     "metadata": {},
     "output_type": "display_data"
    },
    {
     "data": {
      "application/vnd.jupyter.widget-view+json": {
       "model_id": "8a11b3b9cd4b44c1a479380aaa56cb9c",
       "version_major": 2,
       "version_minor": 0
      },
      "text/plain": [
       "Downloading:   0%|          | 0.00/116 [00:00<?, ?B/s]"
      ]
     },
     "metadata": {},
     "output_type": "display_data"
    },
    {
     "data": {
      "application/vnd.jupyter.widget-view+json": {
       "model_id": "09c910620d2b486495f7d62331c3247b",
       "version_major": 2,
       "version_minor": 0
      },
      "text/plain": [
       "Downloading:   0%|          | 0.00/3.15M [00:00<?, ?B/s]"
      ]
     },
     "metadata": {},
     "output_type": "display_data"
    }
   ],
   "source": [
    "from sentence_transformers import SentenceTransformer\n",
    "\n",
    "os.environ[\"CUDA_VISIBLE_DEVICES\"] = \"0\"\n",
    "model = SentenceTransformer(\"sentence-transformers/sentence-t5-large\")"
   ]
  },
  {
   "cell_type": "code",
   "execution_count": 79,
   "id": "53bdf27a-724b-4f0a-8ed7-3f3061d7ed22",
   "metadata": {},
   "outputs": [
    {
     "data": {
      "text/plain": [
       "SentenceTransformer(\n",
       "  (0): Transformer({'max_seq_length': 256, 'do_lower_case': False}) with Transformer model: T5EncoderModel \n",
       "  (1): Pooling({'word_embedding_dimension': 768, 'pooling_mode_cls_token': False, 'pooling_mode_mean_tokens': True, 'pooling_mode_max_tokens': False, 'pooling_mode_mean_sqrt_len_tokens': False})\n",
       "  (2): Dense({'in_features': 1024, 'out_features': 768, 'bias': False, 'activation_function': 'torch.nn.modules.linear.Identity'})\n",
       "  (3): Normalize()\n",
       ")"
      ]
     },
     "execution_count": 79,
     "metadata": {},
     "output_type": "execute_result"
    }
   ],
   "source": [
    "model"
   ]
  },
  {
   "cell_type": "code",
   "execution_count": 107,
   "id": "0832b1ce-bf5d-4327-bd8c-deb5fe323ad1",
   "metadata": {},
   "outputs": [
    {
     "name": "stdout",
     "output_type": "stream",
     "text": [
      "[[-0.01550025  0.01297178  0.00584198 ... -0.02914877  0.01487338\n",
      "   0.06720603]\n",
      " [-0.00851915 -0.0226616   0.0019202  ... -0.03072338  0.0023656\n",
      "   0.03755347]]\n"
     ]
    }
   ],
   "source": [
    "sentences = [\"what is 2+2?\", \"2\"]\n",
    "embeddings = model.encode(sentences)\n",
    "print(embeddings)"
   ]
  },
  {
   "cell_type": "code",
   "execution_count": 108,
   "id": "37fd7888-83db-4111-9da2-bfcb31e8d873",
   "metadata": {},
   "outputs": [
    {
     "data": {
      "text/plain": [
       "(2, 768)"
      ]
     },
     "execution_count": 108,
     "metadata": {},
     "output_type": "execute_result"
    }
   ],
   "source": [
    "embeddings.shape"
   ]
  },
  {
   "cell_type": "code",
   "execution_count": 109,
   "id": "e97a430b-cfa9-4fef-a170-58550e4d6bec",
   "metadata": {},
   "outputs": [
    {
     "data": {
      "text/plain": [
       "0.73845553"
      ]
     },
     "execution_count": 109,
     "metadata": {},
     "output_type": "execute_result"
    }
   ],
   "source": [
    "np.dot(embeddings[0], embeddings[1])"
   ]
  },
  {
   "cell_type": "code",
   "execution_count": 123,
   "id": "5a4cc655-755f-40af-a100-01b658c33e7b",
   "metadata": {},
   "outputs": [
    {
     "data": {
      "text/plain": [
       "(1, 7)"
      ]
     },
     "execution_count": 123,
     "metadata": {},
     "output_type": "execute_result"
    }
   ],
   "source": [
    "np.array([model.tokenizer.encode(sentences[0])]).astype(int).shape"
   ]
  },
  {
   "cell_type": "code",
   "execution_count": 152,
   "id": "90096554-2a49-433f-ab27-f1c04b9ebd79",
   "metadata": {},
   "outputs": [],
   "source": [
    "import torch\n",
    "\n",
    "device = torch.device(\"cuda\")\n",
    "\n",
    "inpt = dict(\n",
    "    input_ids = torch.Tensor(np.array(model.tokenizer.encode(sentences[0]))).view(1,-1).int().to(device)\n",
    ")\n",
    "inpt[\"attention_mask\"] = torch.Tensor(np.ones(inpt[\"input_ids\"].shape)).view(1,-1).int().to(device)"
   ]
  },
  {
   "cell_type": "code",
   "execution_count": 153,
   "id": "a9961822-ccfe-4a55-8215-e5388c63ac78",
   "metadata": {},
   "outputs": [
    {
     "name": "stdout",
     "output_type": "stream",
     "text": [
      "input_ids torch.Size([1, 7])\n",
      "attention_mask torch.Size([1, 7])\n"
     ]
    }
   ],
   "source": [
    "for k, v in inpt.items():\n",
    "    print(k, v.shape)"
   ]
  },
  {
   "cell_type": "code",
   "execution_count": 154,
   "id": "0db05a6f-4140-4bd6-84f8-d168fbc3a907",
   "metadata": {
    "tags": []
   },
   "outputs": [
    {
     "data": {
      "text/plain": [
       "{'input_ids': tensor([[ 125,   19,  204, 1220,  357,   58,    1]], device='cuda:0',\n",
       "        dtype=torch.int32),\n",
       " 'attention_mask': tensor([[1, 1, 1, 1, 1, 1, 1]], device='cuda:0', dtype=torch.int32),\n",
       " 'token_embeddings': tensor([[[-0.0928,  0.0343, -0.4449,  ..., -0.0307, -0.0905,  0.0133],\n",
       "          [-0.0167, -0.0861, -0.2169,  ..., -0.0458, -0.0277, -0.1231],\n",
       "          [-0.0129, -0.1005,  0.3698,  ..., -0.0945,  0.0824,  0.0355],\n",
       "          ...,\n",
       "          [ 0.0079,  0.1546,  0.2256,  ..., -0.2101,  0.0292,  0.0914],\n",
       "          [-0.0702,  0.1371, -0.2202,  ..., -0.0265, -0.2608,  0.0448],\n",
       "          [-0.0512,  0.1165,  0.0685,  ...,  0.0782,  0.0275, -0.0778]]],\n",
       "        device='cuda:0', grad_fn=<MulBackward0>),\n",
       " 'sentence_embedding': tensor([[-1.5500e-02,  1.2972e-02,  5.8420e-03,  8.6660e-03,  1.8796e-02,\n",
       "           3.4288e-02,  2.9658e-02,  4.9993e-02, -2.0949e-03,  1.0967e-02,\n",
       "           2.8683e-02,  1.5631e-02,  3.6811e-02,  6.2192e-02, -4.3116e-02,\n",
       "          -2.7372e-02, -4.2383e-02, -2.0194e-03, -2.2853e-02, -4.5997e-02,\n",
       "           4.8082e-02, -2.2599e-02, -1.7591e-03,  6.3452e-03, -2.6689e-03,\n",
       "           2.5687e-02, -4.2609e-02, -3.1248e-02,  5.4199e-02, -6.1688e-02,\n",
       "           1.2395e-02, -3.2619e-02, -6.8946e-02, -3.7908e-02,  1.0927e-02,\n",
       "           7.2161e-05,  2.3166e-02,  4.0828e-02, -2.5359e-02,  5.9252e-03,\n",
       "          -1.3974e-02,  2.7441e-02, -9.5269e-03, -5.6991e-02,  4.9215e-02,\n",
       "           8.0629e-03, -6.2414e-02, -2.5162e-02, -2.7023e-02, -2.1459e-02,\n",
       "          -7.5353e-02, -3.9302e-02, -1.9620e-02, -2.2611e-02,  1.9336e-02,\n",
       "          -6.8773e-02, -5.0252e-02,  3.0503e-02,  1.3472e-01, -5.0826e-02,\n",
       "          -2.3229e-02,  3.5491e-03, -7.7128e-02,  3.4539e-02,  2.4440e-02,\n",
       "          -7.3678e-02,  3.3627e-02, -7.4485e-02,  3.2842e-02, -8.6994e-02,\n",
       "           5.2021e-02, -1.6873e-02,  1.1342e-02, -7.6305e-02, -4.7247e-03,\n",
       "          -1.6093e-02,  5.8962e-02,  4.3761e-02, -3.4755e-02,  7.5625e-02,\n",
       "           3.1546e-02,  1.7262e-02,  9.7728e-03,  4.4836e-03, -1.6225e-02,\n",
       "           2.3616e-02, -3.0066e-02,  2.2630e-02,  4.6674e-02, -2.9208e-03,\n",
       "          -2.6621e-02, -1.3563e-02, -1.7676e-02, -3.4142e-03,  1.6266e-02,\n",
       "          -1.5535e-03,  2.2503e-02,  3.1306e-03,  8.0363e-03,  4.9440e-02,\n",
       "           1.1180e-02,  4.2000e-02, -5.5499e-02,  2.9339e-02,  1.3921e-02,\n",
       "           2.8583e-02,  2.4165e-02,  2.6527e-03, -3.2733e-02,  3.7901e-02,\n",
       "          -1.5287e-02, -1.5907e-02,  1.0803e-02, -1.2590e-02, -1.2029e-02,\n",
       "          -2.3978e-02,  8.5605e-02, -3.4565e-02, -4.2140e-02, -2.1504e-02,\n",
       "           4.8486e-02,  6.0083e-03, -1.2226e-02,  2.1563e-02, -2.6477e-02,\n",
       "           1.6580e-02, -2.3102e-02, -2.9182e-02, -3.3877e-02, -3.3574e-02,\n",
       "           5.8428e-03,  1.1894e-02,  3.1184e-02, -5.5950e-02,  1.4969e-02,\n",
       "           2.6440e-02, -6.5211e-02, -1.7445e-02,  2.0358e-02,  9.2888e-02,\n",
       "          -6.5177e-02, -4.4468e-02, -4.7078e-02,  4.3390e-02, -3.8170e-02,\n",
       "          -1.1260e-03, -3.0213e-02,  3.2194e-02, -7.2375e-03, -4.7831e-03,\n",
       "           1.8289e-02, -3.2522e-02,  3.6876e-02,  2.2238e-02,  1.8263e-02,\n",
       "           3.2077e-02, -4.4098e-02,  1.9876e-02, -1.8803e-02, -1.3057e-02,\n",
       "          -6.7016e-02,  6.6585e-02, -1.2518e-02, -1.6549e-02, -5.2927e-02,\n",
       "           1.0790e-02,  2.7281e-02,  9.3647e-02, -3.4744e-03, -1.6469e-02,\n",
       "          -7.5411e-02, -2.6824e-02,  2.9167e-02,  4.0764e-02, -2.6007e-02,\n",
       "           6.9245e-02,  1.4855e-02, -1.0966e-02, -1.7919e-02,  3.1716e-02,\n",
       "           7.9196e-03, -2.5692e-02, -4.6272e-02,  4.6612e-03,  2.4093e-02,\n",
       "          -2.5488e-02,  2.2749e-02, -3.6128e-03, -5.9715e-03, -2.3405e-04,\n",
       "          -1.0140e-02,  5.7314e-03, -3.4990e-02, -5.1130e-02, -1.1666e-02,\n",
       "          -1.8915e-02, -6.4721e-02,  3.2352e-02, -5.9624e-02,  8.5439e-03,\n",
       "          -2.2496e-02,  1.4306e-02,  3.6262e-02, -2.2028e-02,  2.0478e-02,\n",
       "           3.1845e-02, -2.8254e-02,  7.3256e-02,  5.6962e-04, -1.4609e-02,\n",
       "          -6.6150e-02, -4.0882e-02, -1.1791e-02,  7.6409e-02,  7.8270e-02,\n",
       "           9.7207e-03, -3.7184e-02, -4.0749e-02,  2.0440e-02,  5.9083e-02,\n",
       "           5.5599e-02, -7.9083e-03, -4.2401e-02,  1.0276e-02,  2.4468e-02,\n",
       "           5.0349e-02, -6.0620e-02,  1.5075e-02,  2.0183e-02,  2.1366e-02,\n",
       "          -2.9294e-02,  2.0589e-02, -2.3424e-02,  1.4992e-03, -1.1524e-02,\n",
       "          -5.4151e-02,  2.6351e-02,  2.9456e-02,  1.5477e-02,  4.2913e-02,\n",
       "          -3.0042e-02,  3.4337e-02,  3.2136e-02, -1.7929e-02,  3.3160e-02,\n",
       "          -2.5992e-02,  1.1660e-02, -8.7934e-04,  1.0513e-01, -1.1568e-02,\n",
       "           3.2440e-02, -9.9111e-03,  1.7399e-02,  1.1019e-02, -4.8879e-02,\n",
       "           4.8858e-02,  4.2729e-02,  8.0408e-03, -1.9819e-02, -5.4791e-03,\n",
       "           2.8338e-02,  3.7461e-02,  4.5452e-02,  2.2104e-02,  7.6183e-02,\n",
       "           7.3915e-03,  2.4669e-02,  2.0528e-02,  1.3200e-03,  6.6948e-04,\n",
       "           8.7631e-03,  8.8310e-02, -1.4233e-02, -2.7637e-02,  2.3058e-03,\n",
       "          -1.3686e-01,  1.6026e-02,  9.1976e-03, -8.4834e-03, -4.6231e-03,\n",
       "          -4.1171e-02,  7.0753e-02, -1.4211e-02, -1.6885e-02,  2.5624e-02,\n",
       "          -3.7467e-02, -3.2796e-02,  2.6704e-02, -4.3739e-02,  9.4510e-03,\n",
       "          -2.4797e-02, -3.8048e-02,  2.1831e-02, -3.9148e-02, -3.8253e-02,\n",
       "          -1.9923e-02, -1.7517e-02, -1.8110e-02, -6.9101e-02,  4.8202e-03,\n",
       "          -6.5610e-02, -4.1423e-02,  4.7007e-02,  3.0730e-02,  2.4221e-02,\n",
       "           2.9226e-02,  4.4176e-02, -3.0063e-02, -2.9154e-02,  5.8526e-03,\n",
       "          -1.5035e-02, -9.0259e-04, -3.2028e-02,  1.4101e-02,  3.5994e-02,\n",
       "           7.2218e-02,  4.8035e-02, -1.1984e-02, -4.6374e-02, -2.0415e-02,\n",
       "           5.5268e-02,  2.2111e-02, -2.5657e-02, -1.1838e-02,  5.1935e-02,\n",
       "           7.5810e-03,  2.5697e-02, -9.7952e-03, -2.6633e-02,  6.7901e-02,\n",
       "           7.6932e-02,  4.0358e-02, -2.3607e-02,  4.2362e-02, -3.3500e-02,\n",
       "          -5.6740e-03, -4.0739e-02,  1.4274e-02, -8.2614e-03, -6.2750e-02,\n",
       "          -6.4658e-03,  2.9898e-02, -2.6790e-02, -4.0080e-02, -2.3614e-02,\n",
       "           3.5731e-03,  4.9732e-02,  4.4754e-02, -1.0666e-02,  2.1057e-02,\n",
       "          -2.1277e-02, -5.2242e-03,  3.7968e-02,  1.7092e-02, -1.4273e-02,\n",
       "          -1.7932e-02, -3.1152e-02,  3.8710e-02,  3.8495e-04,  9.7366e-05,\n",
       "          -1.8200e-02,  5.2718e-02,  4.2747e-02, -1.0611e-02,  3.0259e-02,\n",
       "          -1.8893e-02, -3.6950e-03,  9.8192e-03,  2.4626e-02, -1.4484e-02,\n",
       "          -5.5361e-02, -2.3550e-02, -2.4422e-02,  3.5671e-02, -2.3432e-02,\n",
       "          -3.7595e-02, -4.0614e-02,  1.4840e-02, -1.7313e-03,  1.3624e-02,\n",
       "          -2.0951e-02,  1.1947e-02, -7.0976e-02, -1.7374e-02, -3.9349e-02,\n",
       "           1.5819e-02, -3.1452e-02,  6.3110e-02,  2.0591e-02, -2.9237e-02,\n",
       "           6.2409e-03,  9.4439e-03, -2.4319e-03, -1.2045e-02, -3.4787e-02,\n",
       "           2.5195e-02, -3.6159e-02,  2.9181e-02, -1.8462e-02, -1.2207e-02,\n",
       "          -1.1976e-02, -9.7131e-02, -1.6203e-02,  2.4913e-02, -1.7529e-02,\n",
       "          -5.5362e-03,  4.2784e-02, -2.0490e-02, -1.6460e-02, -2.6121e-02,\n",
       "           3.8607e-02,  2.3818e-02,  2.4718e-03,  4.7400e-02,  1.7670e-02,\n",
       "           1.6320e-02, -1.5279e-02,  2.8284e-02, -3.3810e-02, -3.1978e-02,\n",
       "           1.1349e-02,  4.3200e-02,  1.4950e-02,  5.9514e-02,  5.0385e-02,\n",
       "          -3.3826e-03, -4.7430e-02,  3.4488e-02,  1.4892e-02,  2.7342e-03,\n",
       "          -2.2805e-02, -4.9517e-03,  4.9114e-02, -5.3442e-02,  1.5599e-02,\n",
       "           1.0993e-02,  2.5644e-02,  5.7663e-02, -2.1172e-02, -2.1063e-02,\n",
       "          -7.7539e-03, -5.4613e-04, -3.3945e-02, -6.0954e-02,  3.4572e-02,\n",
       "           4.2182e-03, -7.8940e-03,  5.2176e-03,  8.1574e-03, -2.9562e-03,\n",
       "           5.7479e-02,  9.5044e-03, -1.2774e-02, -5.3419e-02,  4.8268e-02,\n",
       "          -3.4239e-04, -3.0780e-02, -3.8924e-02, -3.8414e-02,  6.5510e-02,\n",
       "           1.3011e-02,  1.2347e-02, -3.9743e-02,  5.7716e-02,  2.1181e-02,\n",
       "          -8.1554e-02,  7.0361e-02,  2.3169e-02, -3.1071e-02,  1.8912e-02,\n",
       "          -3.6731e-02,  3.4798e-02, -4.0937e-02,  5.2620e-04,  4.9469e-03,\n",
       "           3.2146e-02, -1.3818e-02, -3.6500e-02, -8.1317e-02,  1.3487e-02,\n",
       "           4.8582e-02,  6.5738e-02,  3.6336e-03, -1.1509e-02, -2.7866e-02,\n",
       "          -4.2354e-02,  6.4767e-02, -2.5498e-02,  2.8860e-02,  6.3186e-02,\n",
       "          -2.4484e-03, -2.0790e-02, -4.7995e-02, -5.0248e-02,  6.0076e-02,\n",
       "           2.7700e-02, -1.4849e-02,  1.7047e-02, -2.8779e-03,  4.2493e-03,\n",
       "           2.9985e-02, -1.8310e-02, -1.0309e-01,  4.6660e-02, -3.5883e-02,\n",
       "          -6.5798e-02,  6.5179e-02,  6.0456e-02,  1.8645e-02,  9.0373e-02,\n",
       "          -1.6260e-02, -8.8114e-03, -1.6143e-02,  4.9395e-02, -4.8029e-02,\n",
       "          -7.2198e-02,  9.5124e-04, -3.5921e-02, -3.3425e-02, -6.6463e-02,\n",
       "          -1.9152e-02, -2.5163e-02, -2.1886e-02,  4.8036e-02, -1.4105e-02,\n",
       "           2.3302e-02,  3.5174e-02,  5.9586e-02,  1.2753e-02, -2.4070e-02,\n",
       "          -4.8049e-02, -6.0861e-03, -4.4203e-02, -2.3213e-02,  4.7857e-02,\n",
       "           1.8919e-02,  3.3298e-02,  1.1292e-02,  4.9452e-02,  1.4776e-02,\n",
       "          -1.0413e-02, -2.8786e-02,  1.6425e-02,  4.2014e-02,  5.9161e-03,\n",
       "          -1.1962e-02, -2.9405e-02, -3.3546e-02,  1.2179e-02, -5.0091e-02,\n",
       "           3.3790e-02, -1.9234e-02,  7.1875e-03,  5.4402e-03,  3.9610e-02,\n",
       "           3.6139e-02, -3.4165e-02, -3.8863e-02, -1.4585e-02, -4.0355e-02,\n",
       "           3.4399e-02, -2.5091e-02, -1.6484e-02,  3.5683e-02,  5.7181e-02,\n",
       "           6.4728e-02,  2.9120e-02, -4.6081e-02,  5.1876e-02, -2.7915e-02,\n",
       "          -2.2334e-03, -5.2977e-02,  2.7748e-02, -2.6186e-03,  2.0362e-02,\n",
       "          -3.1500e-02,  2.4851e-02, -4.1555e-03,  3.1387e-02, -2.5985e-02,\n",
       "          -2.9459e-02, -2.4328e-02, -1.9382e-02, -3.2825e-02,  3.4341e-02,\n",
       "          -1.1638e-02, -2.7242e-02, -6.7565e-02,  2.3793e-02, -2.6243e-02,\n",
       "          -1.5852e-02, -1.7296e-02,  2.0207e-02, -4.2064e-02,  1.5957e-02,\n",
       "          -1.4691e-02,  9.8769e-03,  4.4005e-02, -1.7994e-02,  4.4427e-02,\n",
       "          -1.6292e-02,  1.5711e-02,  1.1725e-02,  5.1451e-03, -3.8447e-02,\n",
       "          -1.3362e-02, -2.6138e-02,  4.3835e-03,  9.6904e-03,  1.8796e-02,\n",
       "           5.6553e-02, -3.9178e-02, -3.2233e-02,  4.5830e-02,  2.5163e-02,\n",
       "           6.9422e-02,  3.5273e-02,  1.2149e-02,  2.1290e-02, -7.3924e-03,\n",
       "          -8.9652e-03,  8.0440e-03, -3.8535e-02, -6.1491e-03, -4.1129e-03,\n",
       "          -4.1424e-02,  6.0857e-03, -9.5425e-03, -2.1442e-02, -2.2320e-02,\n",
       "           7.3199e-02,  1.0390e-03,  3.0542e-02,  5.1901e-03, -1.8754e-02,\n",
       "           4.9761e-02, -3.3219e-03, -3.8795e-02,  6.8399e-02, -7.6528e-03,\n",
       "          -4.7765e-02,  4.0056e-02, -2.3977e-02, -2.5361e-02,  3.9667e-02,\n",
       "           2.6723e-02, -5.6112e-02,  1.7055e-02, -1.7717e-02,  1.9576e-02,\n",
       "           5.1478e-02, -7.0351e-02, -2.4493e-02, -1.0390e-02,  2.9587e-03,\n",
       "          -7.2380e-02,  5.0748e-02,  9.0861e-03, -2.8006e-02,  1.2244e-02,\n",
       "          -6.6223e-02, -4.1779e-02,  1.2571e-02, -3.0222e-02,  2.6839e-02,\n",
       "          -5.1484e-02, -6.5063e-02,  1.2543e-02, -7.5883e-03, -3.9333e-02,\n",
       "          -1.5347e-02,  3.2550e-02,  3.5135e-02,  2.3932e-02,  3.3528e-02,\n",
       "          -8.8470e-02,  2.0412e-02, -4.1461e-02,  5.0835e-02, -3.6883e-02,\n",
       "          -8.0042e-02,  2.8308e-02, -3.1555e-03, -1.4374e-02,  3.3493e-02,\n",
       "          -3.7423e-02,  3.9995e-03,  2.2811e-02, -8.5989e-02, -9.8639e-02,\n",
       "           3.7721e-02,  2.6194e-02,  3.5179e-02, -3.5487e-02, -2.6929e-02,\n",
       "           8.0176e-03,  2.5909e-02,  8.0169e-03,  4.1976e-03,  1.0588e-02,\n",
       "           3.6702e-02, -3.2337e-02, -3.2695e-02,  1.4538e-02,  2.1642e-02,\n",
       "          -5.5051e-03,  1.2372e-02, -2.1246e-02,  1.6353e-02,  2.3890e-02,\n",
       "           8.8695e-04,  1.0777e-02, -2.2540e-02, -2.8881e-02,  4.6074e-03,\n",
       "           7.0553e-03,  4.0918e-02, -4.5395e-02,  8.0121e-03,  2.8413e-02,\n",
       "           3.9214e-02,  1.0080e-02, -2.8723e-02,  1.4472e-03,  9.0747e-03,\n",
       "          -6.0206e-02,  3.9060e-02, -8.6105e-03, -6.8671e-02, -5.1088e-02,\n",
       "          -1.3704e-03,  1.7021e-02, -1.9565e-03, -2.1407e-02,  4.2852e-03,\n",
       "           1.3730e-02,  7.0639e-03, -1.8608e-04, -3.9509e-02, -3.8470e-02,\n",
       "          -6.4966e-03,  6.8903e-02,  3.4993e-02, -4.2872e-02, -6.5246e-03,\n",
       "          -1.3793e-02, -3.6253e-02,  2.0629e-02, -2.4830e-02, -5.3944e-02,\n",
       "           5.2476e-02,  3.6619e-02, -4.8371e-02,  2.6726e-02,  9.6212e-04,\n",
       "          -4.0726e-02,  2.9561e-02,  2.7491e-02,  1.8709e-02,  3.5215e-02,\n",
       "           9.4596e-03, -2.3014e-02, -3.4268e-02, -4.4134e-02, -3.2589e-02,\n",
       "          -2.9149e-02,  1.4873e-02,  6.7206e-02]], device='cuda:0',\n",
       "        grad_fn=<DivBackward0>)}"
      ]
     },
     "execution_count": 154,
     "metadata": {},
     "output_type": "execute_result"
    }
   ],
   "source": [
    "model(inpt)"
   ]
  },
  {
   "cell_type": "code",
   "execution_count": 122,
   "id": "afc891ed-7f57-4b62-b83d-d7beeed3675e",
   "metadata": {},
   "outputs": [
    {
     "data": {
      "text/plain": [
       "\u001b[0;31mSignature:\u001b[0m \u001b[0mmodel\u001b[0m\u001b[0;34m.\u001b[0m\u001b[0mforward\u001b[0m\u001b[0;34m(\u001b[0m\u001b[0minput\u001b[0m\u001b[0;34m)\u001b[0m\u001b[0;34m\u001b[0m\u001b[0;34m\u001b[0m\u001b[0m\n",
       "\u001b[0;31mDocstring:\u001b[0m\n",
       "Defines the computation performed at every call.\n",
       "\n",
       "Should be overridden by all subclasses.\n",
       "\n",
       ".. note::\n",
       "    Although the recipe for forward pass needs to be defined within\n",
       "    this function, one should call the :class:`Module` instance afterwards\n",
       "    instead of this since the former takes care of running the\n",
       "    registered hooks while the latter silently ignores them.\n",
       "\u001b[0;31mFile:\u001b[0m      ~/anaconda3/envs/torch/lib/python3.7/site-packages/torch/nn/modules/container.py\n",
       "\u001b[0;31mType:\u001b[0m      method\n"
      ]
     },
     "metadata": {},
     "output_type": "display_data"
    }
   ],
   "source": [
    "model.forward?"
   ]
  },
  {
   "cell_type": "code",
   "execution_count": 132,
   "id": "b6dbde53-4abe-4cf5-a2c9-4ab291d3e866",
   "metadata": {},
   "outputs": [
    {
     "data": {
      "text/plain": [
       "{'input_ids': tensor([[653, 209,   1,   0,   0,   0,   0],\n",
       "         [653, 204, 653, 220, 653, 314,   1]]),\n",
       " 'attention_mask': tensor([[1, 1, 1, 0, 0, 0, 0],\n",
       "         [1, 1, 1, 1, 1, 1, 1]])}"
      ]
     },
     "execution_count": 132,
     "metadata": {},
     "output_type": "execute_result"
    }
   ],
   "source": [
    "model.tokenize([\"try 1\", \"try 2 try 3 try 4\"])"
   ]
  },
  {
   "cell_type": "code",
   "execution_count": 157,
   "id": "07c7f2aa-6ab5-4a16-97a5-79dd851040f6",
   "metadata": {},
   "outputs": [],
   "source": [
    "embs = model.encode(claims.vclaim.to_list())"
   ]
  },
  {
   "cell_type": "code",
   "execution_count": 158,
   "id": "d8a8b98e-4386-4272-9fae-46b4ae28d028",
   "metadata": {},
   "outputs": [
    {
     "data": {
      "text/plain": [
       "(13825, 768)"
      ]
     },
     "execution_count": 158,
     "metadata": {},
     "output_type": "execute_result"
    }
   ],
   "source": [
    "embs.shape"
   ]
  }
 ],
 "metadata": {
  "kernelspec": {
   "display_name": "torch",
   "language": "python",
   "name": "torch"
  },
  "language_info": {
   "codemirror_mode": {
    "name": "ipython",
    "version": 3
   },
   "file_extension": ".py",
   "mimetype": "text/x-python",
   "name": "python",
   "nbconvert_exporter": "python",
   "pygments_lexer": "ipython3",
   "version": "3.7.11"
  }
 },
 "nbformat": 4,
 "nbformat_minor": 5
}
